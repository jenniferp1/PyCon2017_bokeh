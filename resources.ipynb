{
 "cells": [
  {
   "cell_type": "markdown",
   "metadata": {},
   "source": [
    "# Introduction to bokeh\n",
    "\n",
    "## Resources\n",
    "---\n",
    "\n",
    "<img src='./images/logos.3.600.wide.png' height='250' width='300' style=\"float:right\">"
   ]
  },
  {
   "cell_type": "markdown",
   "metadata": {
    "collapsed": true
   },
   "source": [
    "## Bokeh\n",
    "\n",
    "1. The Manual: http://bokeh.pydata.org/en/latest/docs/user_guide.html\n",
    "1. The Gallery: http://bokeh.pydata.org/en/latest/docs/gallery.html\n",
    "1. The Notebook Gallery: http://nbviewer.jupyter.org/github/bokeh/bokeh-notebooks/blob/master/index.ipynb\n",
    "1. Bokeh github: https://github.com/bokeh/bokeh\n",
    "1. Visual Attributes: http://bokeh.pydata.org/en/latest/docs/user_guide/styling.html\n",
    "\n",
    "## Conda\n",
    "\n",
    "1. The Manual: https://conda.io/docs/\n",
    "1. Conda myths and misconceptions: https://jakevdp.github.io/blog/2016/08/25/conda-myths-and-misconceptions/\n",
    "\n",
    "\n",
    "## Jupyter Notebooks\n",
    "\n",
    "1. The Manual: https://jupyter.readthedocs.io/en/latest/index.html"
   ]
  },
  {
   "cell_type": "markdown",
   "metadata": {},
   "source": [
    "## Navigation\n",
    "---\n",
    "\n",
    "| Previous | UP |\n",
    "|:-----|:-----:|\n",
    "| <<< [More Examples](./more_examples.ipynb) | [Table of Contents](./README.md) |"
   ]
  }
 ],
 "metadata": {
  "anaconda-cloud": {},
  "celltoolbar": "Slideshow",
  "kernelspec": {
   "display_name": "Python 3",
   "language": "python",
   "name": "python3"
  },
  "language_info": {
   "codemirror_mode": {
    "name": "ipython",
    "version": 3
   },
   "file_extension": ".py",
   "mimetype": "text/x-python",
   "name": "python",
   "nbconvert_exporter": "python",
   "pygments_lexer": "ipython3",
   "version": "3.5.2"
  }
 },
 "nbformat": 4,
 "nbformat_minor": 2
}
