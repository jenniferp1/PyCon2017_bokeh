{
 "cells": [
  {
   "cell_type": "markdown",
   "metadata": {},
   "source": [
    "# Introduction to bokeh\n",
    "\n",
    "## Bokeh, where we came from\n",
    "---\n",
    "\n",
    "<img src='./images/logos.3.600.wide.png' height='250' width='300' style=\"float:right\">"
   ]
  },
  {
   "cell_type": "markdown",
   "metadata": {},
   "source": [
    "# The history of bokeh\n",
    "---"
   ]
  },
  {
   "cell_type": "markdown",
   "metadata": {},
   "source": [
    "Photographers use the Japanese word **“bokeh”** to describe the blurring of the out-of-focus parts of an image.\n",
    "\n",
    "Its aesthetic quality can greatly enhance a photograph, and photographers artfully use focus to draw attention to subjects of interest. \n",
    "\n",
    "“Good bokeh” contributes visual interest to a photograph and places its subjects in context. \n",
    "\n",
    "The `bokeh` library was so named because it allows users the flexibility to focus on the most important data without losing track of the rich context that allows it to be understood.\n",
    "\n",
    "<br>\n",
    "<div style=\"text-align: right\">Source: http://bokehplots.com/pages/technical-vision.html</div>"
   ]
  },
  {
   "cell_type": "markdown",
   "metadata": {},
   "source": [
    "# The philosophy of bokeh\n",
    "---"
   ]
  },
  {
   "cell_type": "markdown",
   "metadata": {},
   "source": [
    "## How do we look at all the data?\n",
    "\n",
    "* **Perceptual approaches**: What are the best perceptual approaches to honestly and accurately represent the data to domain experts and SMEs so they can apply their intuition to the data?\n",
    "\n",
    "* **Automated approaches**: Are there automated approaches to accurately reduce large datasets so that outliers and anomalies are still visible, while we meaningfully represent baselines and backgrounds? How can we do this without “washing away” all the interesting bits during a naive downsampling?\n",
    "\n",
    "* **Data transformation pipeline**: If we treat the pixels and topology of pixels on a screen as a bottleneck in the I/O channel between hard drives and an analyst’s visual cortex, what are the best compression techniques at all levels of the data transformation pipeline?\n",
    "\n",
    "## Mode of engagement\n",
    "\n",
    "How can scientists and data analysts be empowered to use **visualization fluidly**, not merely as an output facility or one stage of a pipeline, but as an entire **mode of engagement** with data and models?\n",
    "\n",
    "What data-oriented interactions are useful for fluid, **visually-enabled analysis**?\n",
    "\n",
    "One guiding principle for the development of our visualization tools is to provide **useful software** for people, while incorporating novel **ideas from the academic world** of visualization research. Additionally, as modular and open-source projects, we hope that Bokeh [...] will enable many other projects to build a rich suite of domain-specific applications that change existing, legacy paradigms of data processing workflow.\n",
    "<br>\n",
    "<br>\n",
    "<div style=\"text-align: right\">Source: http://bokehplots.com/pages/technical-vision.html</div>"
   ]
  },
  {
   "cell_type": "markdown",
   "metadata": {},
   "source": [
    "# The two faces of bokeh\n",
    "---"
   ]
  },
  {
   "cell_type": "markdown",
   "metadata": {},
   "source": [
    "Bokeh has two primary means of use: on a server and in the browser.\n",
    "\n",
    "### Client-based visualizations\n",
    "Bokeh also creates standalone visualizations viewable in browsers with no use of the Bokeh server. These plots have many interactive tools and features, such as panning, brushing, hover, etc.\n",
    "\n",
    "### Server-based apps\n",
    "The Bokeh server provides an environment where data can be updated and manipulated such that it can then update the visualization and where the user interface and selection processes can trigger visual updates."
   ]
  },
  {
   "cell_type": "markdown",
   "metadata": {},
   "source": [
    "# How does Bokeh work?\n",
    "---"
   ]
  },
  {
   "cell_type": "markdown",
   "metadata": {},
   "source": [
    "Bokeh is designed such that high-level objects that go into your model (like glyphs, axes, plots, etc) are created in **Python** and then converted to **JSON** format. **BokehJS** uses this to create the visualizations which are rendered in **Javascript** for display by the browser.\n",
    "\n",
    "<img src='./images/bokeh_flow.png' height='250' width='450' style=\"float:center\">\n",
    "\n",
    "**Limitations**: the display of large quantities of data is limited by the browser and its ability to handle large amounts of data.\n",
    "\n",
    "In the second half of the workshop, we will look at using the Bokeh Server to get around this."
   ]
  },
  {
   "cell_type": "markdown",
   "metadata": {},
   "source": [
    "## Navigation\n",
    "---\n",
    "\n",
    "| Previous | Up | Next |\n",
    "|:-----|:-----:|-----:|\n",
    "| <<< [Installation](./installation.ipynb) | [Table of Contents](./README.md) | [First Graph](./first_graph.ipynb) >>> |"
   ]
  }
 ],
 "metadata": {
  "anaconda-cloud": {},
  "celltoolbar": "Slideshow",
  "kernelspec": {
   "display_name": "Python 3",
   "language": "python",
   "name": "python3"
  },
  "language_info": {
   "codemirror_mode": {
    "name": "ipython",
    "version": 3
   },
   "file_extension": ".py",
   "mimetype": "text/x-python",
   "name": "python",
   "nbconvert_exporter": "python",
   "pygments_lexer": "ipython3",
   "version": "3.5.1"
  }
 },
 "nbformat": 4,
 "nbformat_minor": 2
}
