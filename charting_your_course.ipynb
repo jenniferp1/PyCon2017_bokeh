{
 "cells": [
  {
   "cell_type": "markdown",
   "metadata": {},
   "source": [
    "# Introduction to bokeh\n",
    "\n",
    "## Charting your course\n",
    "---\n",
    "\n",
    "<img src='./images/logos.3.600.wide.png' height='250' width='300' style=\"float:right\">"
   ]
  },
  {
   "cell_type": "markdown",
   "metadata": {},
   "source": [
    "## So where do you go from here?\n",
    "\n",
    "\n",
    "1. Read the **manual** >> lots of good stuff in there\n",
    "1. Read the **functions** themselves >> `?`\n",
    "1. Read the **sample graphs**\n",
    "   * there are lots of tips and tricks in there\n",
    "   * figure out how an effect was generated\n",
    "   * sample graphs are in the gallery AND in the user manual (see the next session)\n",
    "1. **Don't recreate** the wheel >> reuse the sample graphs\n",
    "1. **Make graphs**, lots and lots of graphs!\n",
    "   * start small\n",
    "   * add simple embellishments\n",
    "   * add more\n"
   ]
  },
  {
   "cell_type": "markdown",
   "metadata": {},
   "source": [
    "## Navigation\n",
    "---\n",
    "\n",
    "| Previous | Up | Next |\n",
    "|:----|:----:|-----:|\n",
    "| <<< [Servers](./servers.ipynb) | [Table of Contents](./README.md) | [More Examples](./more_examples.ipynb) >>> |"
   ]
  }
 ],
 "metadata": {
  "anaconda-cloud": {},
  "celltoolbar": "Slideshow",
  "kernelspec": {
   "display_name": "Python 3",
   "language": "python",
   "name": "python3"
  },
  "language_info": {
   "codemirror_mode": {
    "name": "ipython",
    "version": 3
   },
   "file_extension": ".py",
   "mimetype": "text/x-python",
   "name": "python",
   "nbconvert_exporter": "python",
   "pygments_lexer": "ipython3",
   "version": "3.5.1"
  }
 },
 "nbformat": 4,
 "nbformat_minor": 2
}
