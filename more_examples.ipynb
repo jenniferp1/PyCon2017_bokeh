{
 "cells": [
  {
   "cell_type": "markdown",
   "metadata": {},
   "source": [
    "# Introduction to bokeh\n",
    "\n",
    "## But wait, there's more...\n",
    "---\n",
    "\n",
    "<img src='./images/logos.3.600.wide.png' height='250' width='300' style=\"float:right\">"
   ]
  },
  {
   "cell_type": "markdown",
   "metadata": {
    "collapsed": true
   },
   "source": [
    "## Cool examples from the gallery\n",
    "\n",
    "* **Gallery** http://bokeh.pydata.org/en/latest/docs/gallery.html\n"
   ]
  },
  {
   "cell_type": "markdown",
   "metadata": {
    "collapsed": true
   },
   "source": [
    "## Cool examples from the manual/documentation\n",
    "\n",
    "* **Styling** http://bokeh.pydata.org/en/latest/docs/user_guide/styling.html#userguide-styling\n",
    "* **Annotations** http://bokeh.pydata.org/en/latest/docs/user_guide/annotations.html#userguide-annotations\n",
    "* **Tools** http://bokeh.pydata.org/en/latest/docs/user_guide/tools.html#userguide-tools\n",
    "* **Layouts** http://bokeh.pydata.org/en/latest/docs/user_guide/layout.html#userguide-layout\n",
    " \n"
   ]
  },
  {
   "cell_type": "markdown",
   "metadata": {},
   "source": [
    "## Navigation\n",
    "---\n",
    "\n",
    "| Previous | Up | Next |\n",
    "|:-----|:-----:|-----:|\n",
    "| <<< [Charting Your Course](./charting_your_course.ipynb) | [Table of Contents](./README.md) | [Resources](./resources.ipynb) >>> |"
   ]
  }
 ],
 "metadata": {
  "anaconda-cloud": {},
  "celltoolbar": "Slideshow",
  "kernelspec": {
   "display_name": "Python 3",
   "language": "python",
   "name": "python3"
  },
  "language_info": {
   "codemirror_mode": {
    "name": "ipython",
    "version": 3
   },
   "file_extension": ".py",
   "mimetype": "text/x-python",
   "name": "python",
   "nbconvert_exporter": "python",
   "pygments_lexer": "ipython3",
   "version": "3.5.2"
  }
 },
 "nbformat": 4,
 "nbformat_minor": 2
}
