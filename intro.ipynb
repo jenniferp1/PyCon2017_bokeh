{
 "cells": [
  {
   "cell_type": "markdown",
   "metadata": {},
   "source": [
    "# Introduction to bokeh\n",
    "\n",
    "## Who am I? Who are you? What is bokeh?\n",
    "---\n",
    "\n",
    "<img src='./images/logos.3.600.wide.png' height='250' width='300' style=\"float:right\">"
   ]
  },
  {
   "cell_type": "markdown",
   "metadata": {},
   "source": [
    "### Me...\n",
    "* Chalmer Lowe\n",
    "* @chalmer_lowe\n",
    "* chalmer@darkartofcoding.com\n",
    "\n",
    "\n",
    "### What I do...\n",
    "* Founder: Dark Art of Coding\n",
    "* Founder: PyHawaii\n",
    "* Senior Computer Scientist: Booz Allen Hamilton\n",
    "* Chair/Co-Chair: Pycon Education Summit\n",
    "* Introduction to Sprinting guy\n",
    "\n",
    "<img src='./images/logos.3.600.wide.png' height='250' width='250' style=\"float:center\">\n",
    "<img src='./images/pyhawaii_name_100.png' height='250' width='250' style=\"float:center\">\n",
    "<img src='./images/Booz_Allen_logo_black-SMALL.png' height='250' width='250' style=\"float:center\">"
   ]
  },
  {
   "cell_type": "markdown",
   "metadata": {},
   "source": [
    "## Tell me about yourselves...\n",
    "\n",
    "* Your background with:\n",
    "  * Python\n",
    "  * Visualization libraries like matplotlib, seaborn, bokeh\n",
    "* What would you like to visualize with bokeh\n"
   ]
  },
  {
   "cell_type": "markdown",
   "metadata": {},
   "source": [
    "\"Bokeh is a Python interactive visualization library that targets modern web browsers for presentation. Its goal is to provide elegant, concise construction of novel graphics in the style of D3.js, and to extend this capability with high-performance interactivity over very large or streaming datasets. Bokeh can help anyone who would like to quickly and easily create interactive plots, dashboards, and data applications.\"\n",
    "\n",
    "<br>\n",
    "<div style=\"text-align: right\">Source: http://bokeh.pydata.org/en/latest/</div>"
   ]
  },
  {
   "cell_type": "markdown",
   "metadata": {},
   "source": [
    "# Today's agenda\n",
    "---"
   ]
  },
  {
   "cell_type": "markdown",
   "metadata": {},
   "source": [
    "* Install bokeh and other pertinent libraries\n",
    "* The history of bokeh\n",
    "* Your first basic graph\n",
    "\n",
    "    Break (5 mins) -------------------------------------------\n",
    "\n",
    "\n",
    "* Top 5 fun and entertaining plots\n",
    "* Wait, what? Why doesn't that work?\n",
    "\n",
    "    Break (5 mins) -------------------------------------------\n",
    "\n",
    "\n",
    "* Bokeh server app\n",
    "* Charting your course\n",
    "* But wait, there's more..."
   ]
  },
  {
   "cell_type": "markdown",
   "metadata": {},
   "source": [
    "<img src='./images/anxiety-boredom-3.png' width='500' style=\"float:center\">"
   ]
  },
  {
   "cell_type": "markdown",
   "metadata": {},
   "source": [
    "<img src='./images/changing_stuff.jpg' width='500' style=\"float:center\">"
   ]
  },
  {
   "cell_type": "markdown",
   "metadata": {},
   "source": [
    "# The buddy system\n",
    "---\n",
    "\n",
    "1. You will be asked to **partner** with someone in the class\n",
    "1. This has **numerous benefits**\n",
    "   * Each of you now has a built-in troubleshooting partner\n",
    "   * Each of you now has someone to ask questions/discuss\n",
    "   * One of you can type/one can peer review\n",
    "   * Errors will be spotted sooner (sometimes before you even make them)"
   ]
  },
  {
   "cell_type": "markdown",
   "metadata": {},
   "source": [
    "# Think before you act\n",
    "---\n",
    "\n",
    "1. **Number one error**: mistyped code\n",
    "1. **Review** your commands character by character... Then hit Enter OR execute the cell"
   ]
  },
  {
   "cell_type": "markdown",
   "metadata": {},
   "source": [
    "## Navigation\n",
    "---\n",
    "\n",
    "| Up | Next |\n",
    "|:-----:|-----:|\n",
    "| <<< [Table of Contents](./README.md) | [Installation](./installation.ipynb) >>> |"
   ]
  },
  {
   "cell_type": "code",
   "execution_count": null,
   "metadata": {
    "collapsed": true
   },
   "outputs": [],
   "source": []
  }
 ],
 "metadata": {
  "anaconda-cloud": {},
  "celltoolbar": "Slideshow",
  "kernelspec": {
   "display_name": "Python 3",
   "language": "python",
   "name": "python3"
  },
  "language_info": {
   "codemirror_mode": {
    "name": "ipython",
    "version": 3
   },
   "file_extension": ".py",
   "mimetype": "text/x-python",
   "name": "python",
   "nbconvert_exporter": "python",
   "pygments_lexer": "ipython3",
   "version": "3.5.1"
  }
 },
 "nbformat": 4,
 "nbformat_minor": 2
}
